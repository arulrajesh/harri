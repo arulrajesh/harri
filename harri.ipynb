{
 "cells": [
  {
   "cell_type": "code",
   "execution_count": null,
   "metadata": {},
   "outputs": [],
   "source": [
    "from selenium import webdriver\n",
    "from selenium.webdriver.common.keys import Keys\n",
    "from selenium.webdriver.support.ui import WebDriverWait\n",
    "import subprocess\n",
    "import os\n",
    "import pandas as pd\n",
    "from selenium.webdriver.support import expected_conditions as EC\n",
    "from selenium.common.exceptions import NoSuchElementException, ElementClickInterceptedException,StaleElementReferenceException, TimeoutException\n",
    "driver = webdriver.Chrome(executable_path='chromedriver\\chromedriver.exe')\n",
    "from harri_site import HarriSite\n",
    "driver.maximize_window()\n",
    "driver.get('http://harristaging.com/user/login')\n",
    "wait = WebDriverWait(driver, 60)\n",
    "FiHa = HarriSite(wait,driver)\n",
    "driver.implicitly_wait(1)\n",
    "import harri_site\n",
    "from selenium.webdriver.common.by import By"
   ]
  },
  {
   "cell_type": "code",
   "execution_count": null,
   "metadata": {},
   "outputs": [],
   "source": [
    "uemail = 'STAGING_Grant.Read@demipower.com'\n",
    "upass = 'House123!'\n",
    "FiHa.harri_login(uemail, upass)"
   ]
  },
  {
   "cell_type": "code",
   "execution_count": null,
   "metadata": {},
   "outputs": [],
   "source": [
    "def goto_dashboard(self):\n",
    "    try:\n",
    "        element = self.driver.find_element_by_xpath(Locator.oMap_icon_on_dashboard)\n",
    "        element.click()\n",
    "        element = self.driver.find_element_by_xpath(Locator.oFirst_result_of_first_block)\n",
    "        element.click()\n",
    "    except ElementClickInterceptedException:\n",
    "        self.got_it()\n",
    "        self.goto_dashboard()\n",
    "    finally:\n",
    "        pass\n",
    "from locators import Locator"
   ]
  },
  {
   "cell_type": "code",
   "execution_count": null,
   "metadata": {},
   "outputs": [],
   "source": [
    "element = driver.find_element_by_xpath(Locator.oMy_team_header)"
   ]
  },
  {
   "cell_type": "code",
   "execution_count": null,
   "metadata": {},
   "outputs": [],
   "source": [
    "element.click()"
   ]
  },
  {
   "cell_type": "code",
   "execution_count": null,
   "metadata": {},
   "outputs": [],
   "source": [
    "try:\n",
    "    element.click()\n",
    "except ElementClickInterceptedException as e:\n",
    "    print(e.msg)\n",
    "    print('class=\"wt-cover' in e.msg )\n",
    "    #driver.execute_script(\"arguments[0].click();\", element)\n",
    "    eu = e"
   ]
  },
  {
   "cell_type": "code",
   "execution_count": null,
   "metadata": {},
   "outputs": [],
   "source": [
    "def goto_myteam():\n",
    "    while True:\n",
    "        try:\n",
    "            element = driver.find_element_by_xpath(Locator.oMy_team_header)\n",
    "            element.click()\n",
    "            break\n",
    "        except ElementClickInterceptedException as e:\n",
    "            print(e.msg)\n",
    "            got_it()"
   ]
  },
  {
   "cell_type": "code",
   "execution_count": null,
   "metadata": {},
   "outputs": [],
   "source": [
    "goto_myteam()"
   ]
  },
  {
   "cell_type": "code",
   "execution_count": null,
   "metadata": {},
   "outputs": [],
   "source": [
    "FiHa.goto_dashboard()\n",
    "FiHa.goto_myteam()\n",
    "FiHa.goto_forecasting()\n",
    "FiHa.goto_historicaldata()\n"
   ]
  },
  {
   "cell_type": "code",
   "execution_count": null,
   "metadata": {},
   "outputs": [],
   "source": [
    "df = pd.read_csv(\"list.csv\")\n",
    "df2 = df.copy()\n",
    "statuss = []\n",
    "for row in df.itertuples():\n",
    "    clientid, fname,upload = row.clientid, f\"{os.getcwd()}\\historicals\\{row.historicals}\",row.upload\n",
    "    if upload:\n",
    "        FiHa.click_uploadhistoricaldata()\n",
    "        FiHa.hsearch(clientid)\n",
    "        print(f'\"{fname}\"        {clientid}')\n",
    "        FiHa.click_upload()\n",
    "        FiHa.hbrowse(fname)\n",
    "        FiHa.final_upload()\n",
    "        statuss.append(FiHa.status_write())\n",
    "#       statuss.append(\"Took too long\")\n",
    "df3 = pd.DataFrame(statuss,columns=['stat'])\n",
    "\n",
    "df2[['date','uploadedby','filename','status']]=df3['stat'].str.split('\\t',expand=True)\n",
    "\n",
    "df2.to_csv('output.csv')"
   ]
  },
  {
   "cell_type": "code",
   "execution_count": null,
   "metadata": {},
   "outputs": [],
   "source": [
    "import harri_site\n",
    "from importlib import reload\n",
    "reload(harri_site)\n",
    "FiHa = harri_site.HarriSite(wait,driver)"
   ]
  },
  {
   "cell_type": "code",
   "execution_count": null,
   "metadata": {},
   "outputs": [],
   "source": [
    "def harri_login(hwait, uname, upass):\n",
    "    uname = hwait.until(EC.element_to_be_clickable((By.NAME, 'username')))\n",
    "    passw = hwait.until(EC.element_to_be_clickable((By.NAME, 'password')))\n",
    "    login = hwait.until(EC.presence_of_element_located((By.XPATH, \"//*[@id='harriApp']/div[1]/ui-view/registration-login-container/div[2]/div/div[2]/div[7]/button\")))\n",
    "    uname.send_keys(uemail)\n",
    "    passw.send_keys(upass)\n",
    "    login.click()\n",
    "    "
   ]
  },
  {
   "cell_type": "code",
   "execution_count": null,
   "metadata": {},
   "outputs": [],
   "source": [
    "    def goto_dashboard(self):\n",
    "        try:\n",
    "            element = self.driver.find_element_by_xpath(Locator.oMap_icon_on_dashboard)\n",
    "            element.click()\n",
    "            element = self.driver.find_element_by_xpath(Locator.oFirst_result_of_first_block)\n",
    "            element.click()\n",
    "        except ElementClickInterceptedException:\n",
    "            self.got_it()\n",
    "            self.goto_dashboard()\n",
    "        finally:\n",
    "            pass"
   ]
  },
  {
   "cell_type": "code",
   "execution_count": null,
   "metadata": {},
   "outputs": [],
   "source": [
    "compa = [1,2,3,4,5]\n",
    "print(f'{type((compa[:-1]))}')"
   ]
  },
  {
   "cell_type": "code",
   "execution_count": null,
   "metadata": {},
   "outputs": [],
   "source": [
    "a = ('arul')"
   ]
  },
  {
   "cell_type": "code",
   "execution_count": null,
   "metadata": {},
   "outputs": [],
   "source": [
    "u,p = a\n",
    "if u :print(u)\n",
    "if p:print(p)"
   ]
  },
  {
   "cell_type": "code",
   "execution_count": null,
   "metadata": {},
   "outputs": [],
   "source": [
    "res = EC.element_to_be_clickable((By.NAME, 'username'))(driver)"
   ]
  },
  {
   "cell_type": "code",
   "execution_count": null,
   "metadata": {},
   "outputs": [],
   "source": [
    "class AnyEc:\n",
    "    \"\"\" Use with WebDriverWait to combine expected_conditions\n",
    "        in an OR.\n",
    "    \"\"\"\n",
    "\n",
    "    def __init__(self, *args):\n",
    "        self.ecs = args\n",
    "\n",
    "    def __call__(self, driver):\n",
    "        for fn in self.ecs:\n",
    "            try:\n",
    "                res = fn(driver)\n",
    "                if res:\n",
    "                    return res\n",
    "                    # Or return res if you need the element found\n",
    "            except:\n",
    "                pass\n"
   ]
  },
  {
   "cell_type": "code",
   "execution_count": null,
   "metadata": {},
   "outputs": [],
   "source": [
    "# click \"Got it\" on the Create your own dashboard view page.\n",
    "from selenium.webdriver.common.by import By\n",
    "from selenium.webdriver.support import expected_conditions as EC2\n",
    "def got_it():\n",
    "    try:\n",
    "        element = wait.until(EC2.element_to_be_clickable(\n",
    "            (By.XPATH, \"//*[@id='top']/div/nav/div/div/div[4]/a[4]\")))\n",
    "        element.click()\n",
    "    finally:\n",
    "        pass\n"
   ]
  },
  {
   "cell_type": "code",
   "execution_count": null,
   "metadata": {},
   "outputs": [],
   "source": [
    "# Get into the dashboard by clicking on the first parent in the list\n",
    "def goto_dashboard():\n",
    "    try:\n",
    "        element = wait.until(EC.element_to_be_clickable((By.XPATH, \"//li[contains(@class,'brand-navigation')]\")))\n",
    "        element.click()\n",
    "        searchbar = wait.until(EC.element_to_be_clickable((By.XPATH, \"//div[contains(@class,'locations-list-wrapper')][2]//div[contains(@class,'brand-item')][1]\")))\n",
    "        searchbar.click()\n",
    "    finally:\n",
    "        pass\n"
   ]
  },
  {
   "cell_type": "code",
   "execution_count": null,
   "metadata": {},
   "outputs": [],
   "source": [
    "# once at dashboard page. Go to My Team\n",
    "def goto_myteam():\n",
    "    try:\n",
    "        element = wait.until(EC.element_to_be_clickable(\n",
    "            (By.XPATH, \"//*[@id='header-links-nav']//a[contains(.,'My Team')]\")))\n",
    "        element.click()\n",
    "    finally:\n",
    "        pass\n"
   ]
  },
  {
   "cell_type": "code",
   "execution_count": null,
   "metadata": {},
   "outputs": [],
   "source": [
    "# click forecasting\n",
    "def goto_forecasting():\n",
    "    try:\n",
    "        element = wait.until(EC.element_to_be_clickable((By.XPATH, \"//*[@id='header-links-nav']//li[contains(.,'Forecasting')]/div/button\")))\n",
    "\n",
    "        while (element.get_attribute(\"innerText\")) != \"Forecasting\":\n",
    "\n",
    "            element = wait.until(EC.element_to_be_clickable((By.XPATH, \"//*[@id='header-links-nav']//li[contains(.,'Forecasting')]/div/button\")))\n",
    "\n",
    "        element.click()\n",
    "        print(element.get_attribute(\"innerText\"))  # should be Forecasting\n",
    "    except ElementClickInterceptedException:\n",
    "        click_ignore()\n",
    "    finally:\n",
    "        pass\n"
   ]
  },
  {
   "cell_type": "code",
   "execution_count": null,
   "metadata": {},
   "outputs": [],
   "source": [
    "def goto_historicaldata():\n",
    "    try:  # click the Historical Data\n",
    "        element = wait.until(EC.element_to_be_clickable(\n",
    "            (By.XPATH, \"//*[@id='header-links-nav']//a[contains(.,'Historical Data')]\")))\n",
    "        element.click()\n",
    "    finally:\n",
    "        pass\n"
   ]
  },
  {
   "cell_type": "code",
   "execution_count": null,
   "metadata": {},
   "outputs": [],
   "source": [
    "def upload_modal():\n",
    "    try:  # click the \"Upload Historical data\" popup window\n",
    "        element = wait.until(EC.element_to_be_clickable(\n",
    "            (By.XPATH, \"//*[@id='manage-template-modal']/div/div/div[1]/h4/span\")))\n",
    "        print(element.get_attribute(\"innerText\"))  # should be modal window\n",
    "        element.click()\n",
    "    finally:\n",
    "        pass\n"
   ]
  },
  {
   "cell_type": "code",
   "execution_count": null,
   "metadata": {},
   "outputs": [],
   "source": [
    "def click_uploadhistoricaldata(attempts=0):\n",
    "    attempts += 1\n",
    "    try:  # check if the upload button below the location search is pressed is pressed otherwise click on the\n",
    "        wait.until(EC.invisibility_of_element_located(\n",
    "            (By.XPATH, \"//*[@id='manage-template-modal']/div/div\")))\n",
    "        element = wait.until(EC.element_to_be_clickable((By.XPATH, \"//*[@id='upload_data']/a\")))\n",
    "        element.click()\n",
    "    except ElementClickInterceptedException:\n",
    "        click_ignore()\n",
    "        click_uploadhistoricaldata(attempts)\n",
    "    except StaleElementReferenceException:\n",
    "        click_uploadhistoricaldata(attempts)\n",
    "    except TimeoutException:\n",
    "        attempts = 100        \n",
    "    finally:\n",
    "        if attempts>2:print(f\"attempts: {attempts}'\\n'\")\n",
    "        return attempts\n"
   ]
  },
  {
   "cell_type": "code",
   "execution_count": null,
   "metadata": {},
   "outputs": [],
   "source": [
    "def hsearch(clientID, clickit=True):\n",
    "    #clickcit is set to false when this function is used to create the list.csv file.\n",
    "    try:  # click somewhere on the page\n",
    "        element_s = wait.until(EC.element_to_be_clickable(\n",
    "            (By.XPATH, \"//*[@id='harriApp']/div[1]/div/div[3]/forecasts-historical-data-component/div/div[1]/div[1]\")))\n",
    "        element_s.click()\n",
    "    finally:\n",
    "        pass\n",
    "\n",
    "    try:  # click on the top right search\n",
    "        element_s = wait.until(EC.element_to_be_clickable(\n",
    "            (By.XPATH, \"//*[@id='harriApp']/div[1]/div/div[1]/div/div[1]/div[3]/div/div/div/a/div/div[2]/div[1]\")))\n",
    "        element_s.click()\n",
    "    finally:\n",
    "        pass\n",
    "    try:  # search for the site\n",
    "        element = wait.until(EC.element_to_be_clickable(\n",
    "            (By.XPATH, \"//*[@id='harriApp']/div[1]/div/div[1]/div/div[1]/div[3]/div/div/div[2]/h-brands-list/div/div/div[1]/div/input\")))\n",
    "        element.send_keys(clientID)\n",
    "    finally:\n",
    "        pass\n",
    "    if clickit:\n",
    "        try:  # Click on the first search result\n",
    "            time.sleep(1)\n",
    "            element = wait.until(EC.element_to_be_clickable(\n",
    "                (By.XPATH, \"//h-brands-list//div[@class='locations-list-wrapper'][2]/div/div[2]\")))\n",
    "            # //h-brands-list/div/div/div[5]/div/div[2]/div/div[2]//div[@class='locations-list-wrapper'][2]/div\n",
    "            element.click()\n",
    "        finally:\n",
    "            pass\n",
    "\n",
    "        try:  # click on the top right search\n",
    "            element_s = wait.until(EC.element_to_be_clickable(\n",
    "                (By.XPATH, \"//*[@id='harriApp']/div[1]/div/div[1]/div/div[1]/div[3]/div/div/div/a/div/div[2]/div[1]\")))\n",
    "            element_s.click()\n",
    "        finally:\n",
    "            pass\n",
    "            # time.sleep(10)\n",
    "    else:\n",
    "        elems = driver.find_elements(\n",
    "            By.XPATH, \"//h-brands-list//div[@class='locations-list-wrapper'][2]//div[contains(@class,'brand-name')]\")\n",
    "        companies = \"\"\n",
    "        for x in elems:\n",
    "            companies += x.get_attribute('innerText')+'|'\n",
    "        return companies[:-1], len(elems)\n",
    "\n",
    "    #\n",
    "    #    //*[@id=\"harriApp\"]/div[1]/div/div[1]/div/div[1]/div[3]/div/div/div[2]/h-brands-list/div/div/div[5]/div/div[2]/div/div[2]\n"
   ]
  },
  {
   "cell_type": "code",
   "execution_count": null,
   "metadata": {},
   "outputs": [],
   "source": [
    "def click_upload():\n",
    "    click_uploadhistoricaldata()\n",
    "    try:\n",
    "        element = wait.until(AnyEc(EC.element_to_be_clickable((By.XPATH, \"//forecasts-historical-data-component//button[contains(.,'Upload')]\")),EC.element_to_be_clickable((By.XPATH,\"//div[contains(@class,'modal-footer')]//button[contains(.,'Ignore')]\"))))\n",
    "        if element.get_attribute('innerText') == 'Ignore':\n",
    "            element.click()\n",
    "            click_uploadhistoricaldata()\n",
    "            element = wait.until(EC.element_to_be_clickable((By.XPATH, \"//forecasts-historical-data-component//button[contains(.,'Upload')]\")))\n",
    "    except NoSuchElementException:\n",
    "        click_uploadhistoricaldata()\n",
    "        element = wait.until(EC.element_to_be_clickable(\n",
    "            (By.XPATH, \"//*[@id='harriApp']/div[1]/div/div[3]/forecasts-historical-data-component/div/div[1]/div[2]/button[2]\")))\n",
    "    finally:\n",
    "        element.click()\n"
   ]
  },
  {
   "cell_type": "code",
   "execution_count": null,
   "metadata": {},
   "outputs": [],
   "source": [
    "def hbrowse(fpath):\n",
    "    try:  # click the \"Browse\" popup window\n",
    "        element = wait.until(EC.element_to_be_clickable(\n",
    "            (By.XPATH, \"//*[@id='manage-template-modal']/div/div/div[2]/div/div[3]/div[2]/button\")))\n",
    "        element.click()\n",
    "    finally:\n",
    "        pass\n",
    "    time.sleep(1)\n",
    "    subprocess.Popen(f'''fileupload/fileupload.exe \"{fpath}\"''')\n",
    "    time.sleep(2)\n"
   ]
  },
  {
   "cell_type": "code",
   "execution_count": null,
   "metadata": {},
   "outputs": [],
   "source": [
    "def final_upload(upload=True):\n",
    "    try:  # click the Upload button in the popup window\n",
    "        if upload:\n",
    "            element = wait.until(EC.element_to_be_clickable(\n",
    "                (By.XPATH, \"//*[@id='manage-template-modal']//button[contains(.,'Upload')]\")))  # upload\n",
    "        else:\n",
    "            element = wait.until(EC.element_to_be_clickable(\n",
    "                (By.XPATH, \"//*[@id='manage-template-modal']//button[contains(.,'Cancel')]\")))  # cancel\n",
    "        element.click()\n",
    "    except ElementClickInterceptedException:\n",
    "        click_ignore()\n",
    "        element.click()\n",
    "    finally:\n",
    "        pass\n"
   ]
  },
  {
   "cell_type": "code",
   "execution_count": null,
   "metadata": {},
   "outputs": [],
   "source": [
    "def click_ignore():\n",
    "    try:\n",
    "        ignore_btn = driver.find_element(By.XPATH, \"//div[contains(@class,'modal-footer')]//button[contains(.,'Ignore')]\")\n",
    "        ignore_btn.click()\n",
    "    except NoSuchElementException:\n",
    "        pass\n",
    "    finally:\n",
    "        pass\n"
   ]
  },
  {
   "cell_type": "code",
   "execution_count": null,
   "metadata": {},
   "outputs": [],
   "source": [
    "def status_write():\n",
    "    attempts = click_uploadhistoricaldata(0)\n",
    "    status = \"Took too Long. Attempts: \"+ str(attempts)\n",
    "    \n",
    "    try:  # Locate the presence of the table after upload and find the status in the last row\n",
    "        # //*[@id=\"upload_data\"]/div/div/ng-transclude/upload-historical-data-component/div/div[2]/div[2]/table\n",
    "        result = wait.until(AnyEc(EC.visibility_of_element_located((By.XPATH, \"//*[@id='upload_data']/div/div/ng-transclude/upload-historical-data-component/div/div[2]/div[2]/table\")), EC.visibility_of_element_located(\n",
    "            (By.XPATH, \"//div[contains(@class,'upload-historical-data-component')]//div[contains(.,'No uploaded files')]\"))))\n",
    "        if result.get_attribute('innerText') != 'No uploaded files':\n",
    "            rows = driver.find_elements_by_xpath(\n",
    "                \"//*[@id='upload_data']/div/div/ng-transclude/upload-historical-data-component/div/div[2]/div[2]/table/tbody/tr\")\n",
    "            status = driver.find_element(\n",
    "                By.XPATH, f\"//*[@id='upload_data']/div/div/ng-transclude/upload-historical-data-component/div/div[2]/div[2]/table/tbody/tr[{len(rows)}]\").get_attribute(\"innerText\")\n",
    "        else:\n",
    "            status = 'No Uploaded Files'\n",
    "    finally:\n",
    "        print(status)\n",
    "        return status\n"
   ]
  },
  {
   "cell_type": "code",
   "execution_count": null,
   "metadata": {},
   "outputs": [],
   "source": [
    "def validate_search():\n",
    "    df = pd.DataFrame(os.listdir(\n",
    "        'C:\\\\Users\\\\arulr\\\\harri\\\\historicals'), columns=['historicals'])\n",
    "    clist = []\n",
    "    nlist = []\n",
    "    search_terms = []\n",
    "    for row in df.itertuples():\n",
    "        clientid = row.historicals[:-4]\n",
    "        hsearch(clientid, False)\n",
    "        elemtn = driver.find_elements(\n",
    "            By.XPATH, \"//div[contains(@class,'locations-list-wrapper')][2]//div[contains(@class,'brand-name')]\")\n",
    "        if len(elemtn) != 1:\n",
    "            # try to split the file name and do a search for each\n",
    "            sterms = clientid.split(' ')\n",
    "            for x in sterms:\n",
    "                companies, tin = hsearch(x.strip(), False)\n",
    "                if tin == 1:\n",
    "                    search_term = x\n",
    "                    break\n",
    "                else:\n",
    "                    search_term = 'ZZZZZZZZZZZZ'\n",
    "                    companies = 'ZZZZZZZZZZZZZZZZ'\n",
    "\n",
    "        else:\n",
    "            companies = elemtn[0].get_attribute(\"innerText\")\n",
    "            search_term = clientid\n",
    "        search_terms.append(search_term)\n",
    "        clist.append(companies)\n",
    "        nlist.append(len(elemtn))\n",
    "    df['companies'] = clist\n",
    "    df['#results'] = nlist\n",
    "    df['clientid'] = search_terms\n",
    "    df.to_csv('list.csv', index=False)\n"
   ]
  },
  {
   "cell_type": "code",
   "execution_count": null,
   "metadata": {},
   "outputs": [],
   "source": [
    "\n",
    "uemail = 'STAGING_Grant.Read@demipower.com'\n",
    "upass = 'House123!'\n",
    "harri_login(wait, uemail, upass)\n",
    "got_it()\n",
    "goto_dashboard()\n",
    "got_it()\n",
    "goto_myteam()\n",
    "goto_forecasting()\n",
    "goto_historicaldata()\n",
    "try:\n",
    "    click_ignore()\n",
    "finally:\n",
    "    pass\n",
    "#validate_search()\n"
   ]
  },
  {
   "cell_type": "code",
   "execution_count": null,
   "metadata": {},
   "outputs": [],
   "source": [
    "df = pd.read_csv(\"list.csv\")\n",
    "df2 = df.copy()\n",
    "statuss = []\n",
    "for row in df.itertuples():\n",
    "    clientid, fname,upload = row.clientid, f\"{os.getcwd()}\\historicals\\{row.historicals}\",row.upload\n",
    "    if upload:\n",
    "        click_uploadhistoricaldata()\n",
    "        hsearch(clientid)\n",
    "        print(f'\"{fname}\"        {clientid}')\n",
    "        click_upload()\n",
    "        hbrowse(fname)\n",
    "        final_upload()\n",
    "        statuss.append(status_write())\n",
    "#       statuss.append(\"Took too long\")\n",
    "df3 = pd.DataFrame(statuss,columns=['stat'])\n",
    "\n",
    "df2[['date','uploadedby','filename','status']]=df3['stat'].str.split('\\t',expand=True)\n",
    "\n",
    "df2.to_csv('output.csv')\n"
   ]
  },
  {
   "cell_type": "code",
   "execution_count": null,
   "metadata": {},
   "outputs": [],
   "source": [
    "# make sure you are on the dashboard page\n",
    "def get_list_of_sites():\n",
    "    driver.get('http://harristaging.com/dashboard')\n",
    "    element = wait.until(EC.element_to_be_clickable(\n",
    "        (By.XPATH, \"//*[@id='top']/div/nav/ul[3]/li[6]/a/i\"))) #map icon\n",
    "    element.click()\n",
    "    wait.until(EC.element_to_be_clickable(\n",
    "        (By.XPATH, \"//*[@id='top']/div[2]/h-brands-list/div/div/div[1]\")))\n",
    "    element_blk = driver.find_elements(\n",
    "        By.XPATH, \"//h-brands-list//div[@class='locations-list-wrapper'][2]//div[@class='location-map-block']/following::div[1]\")\n",
    "    for ele in element_blk:\n",
    "        driver.execute_script(\"\"\"\n",
    "        var ele = arguments[0];\n",
    "        ele.parentNode.removeChild(ele);\n",
    "        \"\"\", ele)\n",
    "    elems = driver.find_elements(\n",
    "        By.XPATH, \"//h-brands-list//div[@class='locations-list-wrapper'][2]//div[contains(@class,'brand-name')]\")\n",
    "    print(len(elems))\n",
    "    sites = []\n",
    "    for ele in elems:\n",
    "        print(f\"{ele.get_attribute('innerText')}\")\n",
    "        sites.extend(f\"{ele.get_attribute('innerText')}\".split('\\n'))\n",
    "    print(sites)\n"
   ]
  },
  {
   "cell_type": "code",
   "execution_count": null,
   "metadata": {},
   "outputs": [],
   "source": [
    "res.get_attribute('innerText')"
   ]
  },
  {
   "cell_type": "code",
   "execution_count": null,
   "metadata": {},
   "outputs": [],
   "source": [
    "tatus ='asdf\\tasdf\\tasdf\\tasdf'"
   ]
  },
  {
   "cell_type": "code",
   "execution_count": null,
   "metadata": {},
   "outputs": [],
   "source": [
    "a,b,c,d,e =tatus.split('\\t',expand=True)"
   ]
  },
  {
   "cell_type": "code",
   "execution_count": null,
   "metadata": {},
   "outputs": [],
   "source": []
  },
  {
   "cell_type": "code",
   "execution_count": null,
   "metadata": {},
   "outputs": [],
   "source": [
    "u  = 'STAGING_Grant.Read@demipower.com'\n",
    "p = upass = 'House123!'\n",
    "FiHa.harri_login(u, p)\n"
   ]
  },
  {
   "cell_type": "code",
   "execution_count": null,
   "metadata": {},
   "outputs": [],
   "source": [
    "FiHa.goto_dashboard()\n",
    "FiHa.goto_myteam()\n",
    "FiHa.goto_forecasting()\n",
    "FiHa.goto_historicaldata()\n",
    "df = pd.read_csv(\"list.csv\")\n"
   ]
  },
  {
   "cell_type": "code",
   "execution_count": null,
   "metadata": {},
   "outputs": [],
   "source": [
    "df2 = df.copy()\n",
    "statuss = []\n",
    "for row in df.itertuples():\n",
    "    clientid, fname,upload = row.clientid, f\"{os.getcwd()}\\historicals\\{row.historicals}\",row.upload\n",
    "    if upload:\n",
    "        FiHa.click_uploadhistoricaldata()\n",
    "        FiHa.hsearch(clientid)\n",
    "        print(f'\"{fname}\"        {clientid}')\n",
    "        FiHa.click_upload()\n",
    "        FiHa.hbrowse(fname)\n",
    "        FiHa.final_upload()\n",
    "        statuss.append(FiHa.status_write())\n",
    "    else:\n",
    "        statuss.append('Did not attempt')"
   ]
  },
  {
   "cell_type": "code",
   "execution_count": null,
   "metadata": {},
   "outputs": [],
   "source": [
    "reload(harri_site)\n",
    "driver.implicitly_wait(1)\n",
    "FiHa = harri_site.HarriSite(wait,driver)"
   ]
  },
  {
   "cell_type": "code",
   "execution_count": null,
   "metadata": {},
   "outputs": [],
   "source": [
    "subprocess.Popen(f'''fileupload/fileupload.exe \"{fpath}\"''')"
   ]
  },
  {
   "cell_type": "code",
   "execution_count": null,
   "metadata": {},
   "outputs": [],
   "source": [
    "import inspect\n",
    "clientid"
   ]
  },
  {
   "cell_type": "code",
   "execution_count": null,
   "metadata": {},
   "outputs": [],
   "source": [
    "print (inspect.getsource(FiHa.final_upload))"
   ]
  },
  {
   "cell_type": "code",
   "execution_count": null,
   "metadata": {},
   "outputs": [],
   "source": [
    "df.head()"
   ]
  },
  {
   "cell_type": "code",
   "execution_count": null,
   "metadata": {},
   "outputs": [],
   "source": [
    "type([df.head(1)])"
   ]
  },
  {
   "cell_type": "code",
   "execution_count": null,
   "metadata": {},
   "outputs": [],
   "source": [
    "print([df.iloc[2]])"
   ]
  },
  {
   "cell_type": "code",
   "execution_count": null,
   "metadata": {},
   "outputs": [],
   "source": [
    "fname,_,_,clientid, upload = df.iloc[2].to_list()"
   ]
  },
  {
   "cell_type": "code",
   "execution_count": null,
   "metadata": {},
   "outputs": [],
   "source": [
    "fpath = f\"{os.getcwd()}\\historicals\\{fname}\""
   ]
  },
  {
   "cell_type": "code",
   "execution_count": null,
   "metadata": {},
   "outputs": [],
   "source": [
    "FiHa.click_uploadhistoricaldata()\n"
   ]
  },
  {
   "cell_type": "code",
   "execution_count": null,
   "metadata": {},
   "outputs": [],
   "source": [
    "FiHa.hsearch(clientid)\n",
    "print(f'\"{fname}\"        {clientid}')"
   ]
  },
  {
   "cell_type": "code",
   "execution_count": null,
   "metadata": {},
   "outputs": [],
   "source": [
    "\n",
    "element = wait.until(harri_site.AnyEc(EC.element_to_be_clickable((By.XPATH, harri_site.Locator.oUpload_button_below_brands_list)),EC.element_to_be_clickable((By.XPATH,harri_site.Locator.oIgnore_button))))"
   ]
  },
  {
   "cell_type": "code",
   "execution_count": null,
   "metadata": {},
   "outputs": [],
   "source": [
    "element.get_attribute('innerText')"
   ]
  },
  {
   "cell_type": "code",
   "execution_count": null,
   "metadata": {},
   "outputs": [],
   "source": [
    "element.click()"
   ]
  },
  {
   "cell_type": "code",
   "execution_count": null,
   "metadata": {},
   "outputs": [],
   "source": [
    "spinner = wait.until(EC.invisibility_of_element((By.XPATH,\"//div/h-brands-list/div/div[2]/i\")))"
   ]
  },
  {
   "cell_type": "code",
   "execution_count": null,
   "metadata": {},
   "outputs": [],
   "source": [
    "spinner.get_attribute(\"innerText\")"
   ]
  },
  {
   "cell_type": "code",
   "execution_count": null,
   "metadata": {},
   "outputs": [],
   "source": [
    "statuss"
   ]
  },
  {
   "cell_type": "code",
   "execution_count": null,
   "metadata": {},
   "outputs": [],
   "source": [
    "edr = wait.until(EC.element_to_be_clickable((By.XPATH,harri_site.Locator.oUpload_button_final)))"
   ]
  },
  {
   "cell_type": "code",
   "execution_count": null,
   "metadata": {},
   "outputs": [],
   "source": [
    "edr = wait.until(EC.element_to_be_clickable((By.XPATH,harri_site.Locator.oUpload_button_final)))\n",
    "while edr.get_attribute('innertext') =='Uploading':\n",
    "    print(1)"
   ]
  },
  {
   "cell_type": "code",
   "execution_count": null,
   "metadata": {},
   "outputs": [],
   "source": [
    "wait.until(EC.invisibility_of_element(edr))"
   ]
  },
  {
   "cell_type": "code",
   "execution_count": null,
   "metadata": {},
   "outputs": [],
   "source": [
    "if EC.visibility_of_element_located((By.XPATH,harri_site.Locator.oSearchbox))(driver): print(1)"
   ]
  },
  {
   "cell_type": "code",
   "execution_count": null,
   "metadata": {},
   "outputs": [],
   "source": []
  }
 ],
 "metadata": {
  "kernelspec": {
   "display_name": "Python 3.6.8 ('harri': venv)",
   "language": "python",
   "name": "python3"
  },
  "language_info": {
   "codemirror_mode": {
    "name": "ipython",
    "version": 3
   },
   "file_extension": ".py",
   "mimetype": "text/x-python",
   "name": "python",
   "nbconvert_exporter": "python",
   "pygments_lexer": "ipython3",
   "version": "3.6.8"
  },
  "orig_nbformat": 4,
  "vscode": {
   "interpreter": {
    "hash": "f41afe48b7824c86a2f8bd6e717a98880afb4503f2a0e8cdc719be452e302035"
   }
  }
 },
 "nbformat": 4,
 "nbformat_minor": 2
}
