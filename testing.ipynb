{
 "cells": [
  {
   "cell_type": "markdown",
   "metadata": {},
   "source": [
    "### Import all dependencies"
   ]
  },
  {
   "cell_type": "code",
   "execution_count": null,
   "metadata": {},
   "outputs": [],
   "source": [
    "from selenium import webdriver\n",
    "from selenium.webdriver.common.keys import Keys\n",
    "from selenium.webdriver.support.ui import WebDriverWait\n",
    "import os\n",
    "import pandas as pd\n",
    "from selenium.common.exceptions import NoSuchElementException, ElementClickInterceptedException,StaleElementReferenceException, TimeoutException\n",
    "from harri_site import HarriSite\n",
    "from selenium.webdriver.chrome.options import Options\n",
    "from locators import Locator\n",
    "from selenium.common.exceptions import NoSuchElementException, ElementClickInterceptedException, StaleElementReferenceException, TimeoutException\n",
    "from selenium.webdriver.common.by import By\n",
    "from selenium.webdriver.support import expected_conditions as EC\n",
    "import os\n",
    "import subprocess\n",
    "import pandas as pd\n",
    "import time\n",
    "options=Options()\n",
    "options.add_experimental_option('excludeSwitches', ['enable-logging'])"
   ]
  },
  {
   "cell_type": "markdown",
   "metadata": {},
   "source": [
    "### Import the Page object Model for harri site"
   ]
  },
  {
   "cell_type": "code",
   "execution_count": null,
   "metadata": {},
   "outputs": [],
   "source": [
    "import harri_site as hs"
   ]
  },
  {
   "cell_type": "markdown",
   "metadata": {},
   "source": [
    "### Setup the credentials"
   ]
  },
  {
   "cell_type": "code",
   "execution_count": 29,
   "metadata": {},
   "outputs": [],
   "source": [
    "###################################################\n",
    "#U='STAGING_Grant.Read@demipower.com'\n",
    "U='STAGING_PMOlead@colleygroup.com'\n",
    "#U='STAGING_Jmharri@harri.com'\n",
    "P='House123!'\n",
    "URL ='http://harristaging.com/user/login'\n",
    "###################################################"
   ]
  },
  {
   "cell_type": "markdown",
   "metadata": {},
   "source": [
    "### Create a Chrome instance. Navigate to the URL"
   ]
  },
  {
   "cell_type": "code",
   "execution_count": null,
   "metadata": {},
   "outputs": [],
   "source": [
    "driver = webdriver.Chrome(executable_path='chromedriver\\chromedriver.exe',options=options)\n",
    "driver.maximize_window()\n",
    "driver.get(URL)\n",
    "wait = WebDriverWait(driver, 60)\n",
    "driver.implicitly_wait(1)\n",
    "FiHa = HarriSite(wait,driver)"
   ]
  },
  {
   "cell_type": "markdown",
   "metadata": {},
   "source": [
    "### Login to the site.\n"
   ]
  },
  {
   "cell_type": "code",
   "execution_count": 30,
   "metadata": {},
   "outputs": [
    {
     "name": "stderr",
     "output_type": "stream",
     "text": [
      "2022-07-14 10:39:29,780 - harri_site - DEBUG - Login Attempted\n",
      "2022-07-14 10:39:30,825 - harri_site - INFO - Successfully logged in\n",
      "2022-07-14 10:39:30,825 - harri_site - DEBUG - Attempting to navigate to dashboard.\n",
      "2022-07-14 10:39:49,717 - harri_site - INFO - Success: Navigated to dashboard\n",
      "2022-07-14 10:39:49,718 - harri_site - DEBUG - Attempting to click on 'My Team'\n",
      "2022-07-14 10:39:56,104 - harri_site - INFO - Success: navigated to MyTeam\n",
      "2022-07-14 10:39:56,105 - harri_site - DEBUG - Attempting to click Forecasting\n",
      "2022-07-14 10:40:04,484 - harri_site - INFO - Success: Navigated to Forecasting\n",
      "2022-07-14 10:40:04,565 - harri_site - INFO - Success: Navigated to HistoricalData\n"
     ]
    }
   ],
   "source": [
    "\n",
    "u  = U\n",
    "p = P\n",
    "FiHa.harri_login(u, p)\n",
    "FiHa.goto_dashboard()\n",
    "FiHa.goto_myteam()\n",
    "FiHa.goto_forecasting()\n",
    "FiHa.goto_historicaldata()"
   ]
  },
  {
   "cell_type": "markdown",
   "metadata": {},
   "source": [
    "#### Function to get list of all Sites"
   ]
  },
  {
   "cell_type": "code",
   "execution_count": null,
   "metadata": {},
   "outputs": [],
   "source": [
    "FiHa.get_list_of_sites()"
   ]
  },
  {
   "cell_type": "markdown",
   "metadata": {},
   "source": [
    "### Utility: Run next cell if any changes made to Page object model"
   ]
  },
  {
   "cell_type": "code",
   "execution_count": null,
   "metadata": {},
   "outputs": [],
   "source": [
    "from importlib import reload\n",
    "reload(hs)\n",
    "FiHa = hs.HarriSite(wait,driver)"
   ]
  },
  {
   "cell_type": "code",
   "execution_count": null,
   "metadata": {},
   "outputs": [],
   "source": [
    "df = pd.DataFrame(FiHa.get_list_of_sites())"
   ]
  },
  {
   "cell_type": "code",
   "execution_count": null,
   "metadata": {},
   "outputs": [],
   "source": [
    "j = WebDriverWait(FiHa.driver,3).until(EC.element_to_be_clickable((By.XPATH,Locator.oStatus_table)))\n"
   ]
  },
  {
   "cell_type": "code",
   "execution_count": null,
   "metadata": {},
   "outputs": [],
   "source": [
    "def status_write():\n",
    "    status = \"NA\"\n",
    "    ctr=1\n",
    "    driver.implicitly_wait(1)\n",
    "    while True:   \n",
    "        try:  # Locate the presence of the table after upload and find the status in the last row\n",
    "            # //*[@id=\"upload_data\"]/div/div/ng-transclude/upload-historical-data-component/div/div[2]/div[2]/table\n",
    "            print('waiting for upload table to show up')\n",
    "            ctr+=1\n",
    "            result = WebDriverWait(driver,3).until(hs.AnyEc(EC.visibility_of_element_located((By.XPATH, Locator.oStatus_table)), EC.visibility_of_element_located(\n",
    "                (By.XPATH, Locator.oNo_uploaded_files)),EC.element_to_be_clickable((By.XPATH,\"//forecasts-historical-data-component//div//div//h4[contains(.,'Loading')]\"))))\n",
    "            innerT = result.get_attribute('innerText')\n",
    "            if 'Loading' in innerT:\n",
    "                if ctr>10:\n",
    "                    print(ctr)\n",
    "                    status = 'took too long'\n",
    "                    return status\n",
    "            elif innerT == 'No uploaded files':\n",
    "                print('could not find the table, will clic header and try again')\n",
    "                status = 'No Uploaded Files'\n",
    "                return status\n",
    "            else :\n",
    "                print('Found the table')\n",
    "                rows = driver.find_elements_by_xpath(Locator.oRows_in_status_table)\n",
    "                status = driver.find_element(\n",
    "                    By.XPATH, f\"//*[@id='upload_data']/div/div/ng-transclude/upload-historical-data-component/div/div[2]/div[2]/table/tbody/tr[{len(rows)}]\").get_attribute(\"innerText\")\n",
    "                return status\n",
    "        except:\n",
    "            print('there was an exception')\n",
    "            driver.find_element_by_xpath(Locator.oUpload_historical_data_table_title).click()\n",
    "            FiHa.click_ignore()\n",
    "        finally:\n",
    "            print(status)"
   ]
  },
  {
   "cell_type": "code",
   "execution_count": null,
   "metadata": {},
   "outputs": [],
   "source": [
    "result = WebDriverWait(driver,3).until(hs.AnyEc(EC.visibility_of_element_located((By.XPATH, Locator.oStatus_table)), EC.visibility_of_element_located(\n",
    "                (By.XPATH, Locator.oNo_uploaded_files)),EC.presence_of_element_located((By.XPATH,\"//forecasts-historical-data-component//div//div//h4[contains(.,'Loading')]\"))))"
   ]
  },
  {
   "cell_type": "code",
   "execution_count": null,
   "metadata": {},
   "outputs": [],
   "source": []
  },
  {
   "cell_type": "code",
   "execution_count": null,
   "metadata": {},
   "outputs": [],
   "source": [
    "status_write()"
   ]
  },
  {
   "cell_type": "code",
   "execution_count": null,
   "metadata": {},
   "outputs": [],
   "source": [
    "mcfiles['ClientID']"
   ]
  },
  {
   "cell_type": "code",
   "execution_count": null,
   "metadata": {},
   "outputs": [],
   "source": [
    "for x in mcfiles['ClientID']:\n",
    "    print(x)"
   ]
  },
  {
   "cell_type": "code",
   "execution_count": null,
   "metadata": {},
   "outputs": [],
   "source": [
    "for x in os.listdir('./MCD') and y in mcfiles['ClientID']:\n",
    "    os.rename(os.path.join(os.getcwd(),x),os.path.join(os.getcwd(),y))\n"
   ]
  },
  {
   "cell_type": "code",
   "execution_count": null,
   "metadata": {},
   "outputs": [],
   "source": [
    "oldname=[x for x in os.listdir('./MCD')]\n",
    "\n",
    "os.getcwd"
   ]
  },
  {
   "cell_type": "code",
   "execution_count": null,
   "metadata": {},
   "outputs": [],
   "source": [
    "oldname"
   ]
  },
  {
   "cell_type": "code",
   "execution_count": null,
   "metadata": {},
   "outputs": [],
   "source": [
    "mcfiles['oldname']=oldname"
   ]
  },
  {
   "cell_type": "code",
   "execution_count": null,
   "metadata": {},
   "outputs": [],
   "source": [
    "mcfiles"
   ]
  },
  {
   "cell_type": "code",
   "execution_count": null,
   "metadata": {},
   "outputs": [],
   "source": [
    "for x,y in mcfiles.values:\n",
    "    os.rename(os.path.join(os.getcwd(),'MCD',y),f'{os.path.join(os.getcwd(),\"MCD\",x)}.csv')"
   ]
  },
  {
   "cell_type": "code",
   "execution_count": null,
   "metadata": {},
   "outputs": [],
   "source": [
    "from locators import Locator"
   ]
  },
  {
   "cell_type": "code",
   "execution_count": null,
   "metadata": {},
   "outputs": [],
   "source": [
    "import logging\n",
    "import threading\n",
    "import time"
   ]
  },
  {
   "cell_type": "code",
   "execution_count": 23,
   "metadata": {},
   "outputs": [],
   "source": [
    "def pop_up_killer():\n",
    "    while True:\n",
    "        time.sleep(1)\n",
    "        for x in L.Locator.pops:\n",
    "            try:\n",
    "                s= driver.find_element(By.XPATH,x)\n",
    "                s.click()\n",
    "            except:\n",
    "                pass"
   ]
  },
  {
   "cell_type": "code",
   "execution_count": null,
   "metadata": {},
   "outputs": [],
   "source": [
    "reload(Locator)"
   ]
  },
  {
   "cell_type": "code",
   "execution_count": null,
   "metadata": {},
   "outputs": [],
   "source": [
    "import locators as L\n"
   ]
  },
  {
   "cell_type": "code",
   "execution_count": null,
   "metadata": {},
   "outputs": [],
   "source": [
    "L.Locator.pops"
   ]
  },
  {
   "cell_type": "code",
   "execution_count": null,
   "metadata": {},
   "outputs": [],
   "source": [
    "reload(L)"
   ]
  },
  {
   "cell_type": "code",
   "execution_count": null,
   "metadata": {},
   "outputs": [],
   "source": [
    "from importlib import reload\n",
    "reload (L)"
   ]
  },
  {
   "cell_type": "code",
   "execution_count": null,
   "metadata": {},
   "outputs": [],
   "source": [
    "L.Locator.pops"
   ]
  },
  {
   "cell_type": "code",
   "execution_count": 24,
   "metadata": {},
   "outputs": [],
   "source": [
    "x =threading.Thread(target=pop_up_killer,daemon=True)"
   ]
  },
  {
   "cell_type": "code",
   "execution_count": 25,
   "metadata": {},
   "outputs": [],
   "source": [
    "x.start()"
   ]
  },
  {
   "cell_type": "code",
   "execution_count": 18,
   "metadata": {},
   "outputs": [],
   "source": [
    "x.join()"
   ]
  },
  {
   "cell_type": "code",
   "execution_count": 32,
   "metadata": {},
   "outputs": [
    {
     "data": {
      "text/plain": [
       "True"
      ]
     },
     "execution_count": 32,
     "metadata": {},
     "output_type": "execute_result"
    }
   ],
   "source": [
    "x.is_alive()"
   ]
  },
  {
   "cell_type": "code",
   "execution_count": null,
   "metadata": {},
   "outputs": [],
   "source": []
  }
 ],
 "metadata": {
  "kernelspec": {
   "display_name": "Python 3.6.8 ('harri': venv)",
   "language": "python",
   "name": "python3"
  },
  "language_info": {
   "codemirror_mode": {
    "name": "ipython",
    "version": 3
   },
   "file_extension": ".py",
   "mimetype": "text/x-python",
   "name": "python",
   "nbconvert_exporter": "python",
   "pygments_lexer": "ipython3",
   "version": "3.6.8"
  },
  "orig_nbformat": 4,
  "vscode": {
   "interpreter": {
    "hash": "f41afe48b7824c86a2f8bd6e717a98880afb4503f2a0e8cdc719be452e302035"
   }
  }
 },
 "nbformat": 4,
 "nbformat_minor": 2
}
